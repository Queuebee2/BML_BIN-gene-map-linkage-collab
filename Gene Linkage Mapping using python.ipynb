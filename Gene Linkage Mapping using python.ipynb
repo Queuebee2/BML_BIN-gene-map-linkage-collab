{
 "cells": [
  {
   "cell_type": "markdown",
   "metadata": {},
   "source": [
    "# Introduction\n",
    "To create a genetic linkage mapping, we have to calculate distances between genes. With a substantial amount of genes, this becomes very tedious if done manually. Luckily we can automate the process with these cheeky little scripts $^{[1]}$ . In this study we use (PCR amplified) molecular markers (genotypes a,b) in an arabidopsis plant. Where the amount of markers is 144 and the amount of progeny 162.\n",
    "\n",
    "\n",
    "\n",
    "$^{[1]}$: This script hasn't implemented the right statistical chi-square test yet due to a bunch of failures, so all data is assumed to be 'good'."
   ]
  },
  {
   "cell_type": "markdown",
   "metadata": {},
   "source": [
    "# ~~Loading the data~~  Repairing the data to make it usable\n",
    "The dataset is scuffed. Data for each marker is smeared over 4 uneven lines in a textfile. A small script should be able to parse this, either into objects, separate files or insert it into a database.\n",
    "\n",
    "> For every plant in the population of 162 plants, markers are somehow scattered in their dna\n",
    "I dont ***** know okay? Some parent plants did the thingy and babyplants came out with their genes all over the place. \n",
    "\n",
    "In this study we try and find linked genes and map them relative to eachother.\n",
    "\n",
    "Anyhow.\n",
    "The first lines of the file are scuffed with some random meta information.\n",
    "\n",
    "For now, we'll just skip the first 7 lines because we know these are not used in parsing the rest of the file. But first, some variables have to be set.\n",
    "\n",
    "### Setting globals\n",
    "Here some variables are globally (meaning accessible in each cell of the script) defined. If you want to test this script with another file"
   ]
  },
  {
   "cell_type": "code",
   "execution_count": 2,
   "metadata": {},
   "outputs": [],
   "source": [
    "# Globals\n",
    "MAIN_DATA_FILE = \"CvixLerC9.loc\"\n",
    "LEADING_LINES_TO_SKIP = 7\n",
    "OUTPUT_FILENAME = \"output RF matrix of \" + MAIN_DATA_FILE + \".txt\""
   ]
  },
  {
   "cell_type": "code",
   "execution_count": 3,
   "metadata": {},
   "outputs": [],
   "source": [
    "# import re\n",
    "# regex_object = re.compile(\"([A-Z0-9.]+) \\(a,b\\) ; [0-9]+\")"
   ]
  },
  {
   "cell_type": "markdown",
   "metadata": {},
   "source": [
    "### Skipping data \n",
    "Now we open the file, skip the first 7 `LEADING_LINES_TO_SKIP`\n",
    "and start linking the marker observations for each plant as a list in a dictionary with marker ID's being the key.\n",
    "\n",
    "\n",
    "### Using regex?\n",
    "A line containing data for the `current_marker` will always have leading spaces. Markers concur with the following regex pattern `([A-Z0-9.]+) \\(a,b\\) ; [0-9]+` \n",
    "> credits to Sanne Schröduer\n",
    "\n",
    "A syntatically simpler way to extract the marker ID and associated number is to find any lines containing a `;` (semicolon) character and splitting it on `' '` (spaces, of the whitespaceidae)\n",
    "> Todos \n",
    "    - test if this is also true for speed\n",
    "    - figure out a way to parse the data in a way so that we can just use bits instead of characters (for example, 3 64bytes) ??"
   ]
  },
  {
   "cell_type": "markdown",
   "metadata": {},
   "source": [
    "## Getting only the right values\n",
    "The values for a marker are represented with symbols `\"a\"`, `\"b\"`, or `\"-\"`. A line in the file consists of newline characters, space characters and these three symbols of interest. We'll just collect the symbols as we iterate along the lines. Whenever we encounter a new marker-line, the previously collected symbols will be safe in a list linked to the previous marker and a new list will be made to collect the next symbols in.\n"
   ]
  },
  {
   "cell_type": "code",
   "execution_count": 4,
   "metadata": {},
   "outputs": [
    {
     "name": "stdout",
     "output_type": "stream",
     "text": [
      "here are 5 keys, as an example.\n",
      "['PVV4_1', 'CRY2_2', 'AXR-1_3', 'HH.335C_4', 'DF.162L_5']\n"
     ]
    }
   ],
   "source": [
    "with open(MAIN_DATA_FILE, 'r') as f:\n",
    "    for i in range(LEADING_LINES_TO_SKIP):\n",
    "        # just read the skippable lines and dont do anything with them\n",
    "        f.readline()\n",
    "        \n",
    "    identifier_dict = dict()\n",
    "    \n",
    "    for line in f:\n",
    "        \n",
    "        # at the end of the data, some more data is displayed, separated by a newline character\n",
    "        # so we end it here\n",
    "        if line == \"\\n\":\n",
    "            break\n",
    "        \n",
    "        # The marker identifier and number are contained in lines containing a semicolon\n",
    "        if \";\" in line:\n",
    "            # isolate the identifier and the number\n",
    "            l = line.split(' ')\n",
    "            id_name = l[0]\n",
    "            number = l[3].replace(\"\\n\", \"\")\n",
    "            marker_id = f\"{id_name}_{number}\"\n",
    "            \n",
    "            # to make sure a marker doesn't appear twice, throw an error if it does.\n",
    "            if marker_id in identifier_dict.keys():\n",
    "                raise ValueError\n",
    "            \n",
    "            # if no error occurs, create an empty list as value for this marker.\n",
    "            else:\n",
    "                identifier_dict[marker_id] = list()\n",
    "        \n",
    "        # if no semicolon is found, this line should consist of data for the current marker\n",
    "        else:\n",
    "            # first we have to parse the line to remove whitespaces\n",
    "            # we'll check if the line complies to the rule \"start with a space\", at least.\n",
    "            if line.startswith(\"  \"):\n",
    "                # now add all characters of this line to the list of the current marker\n",
    "                identifier_dict[marker_id] += [char for char in line if char in {\"a\", \"b\", \"-\"}]\n",
    "\n",
    "                \n",
    "print('here are 5 keys, as an example.')\n",
    "print(list(identifier_dict.keys())[:5])\n",
    "\n",
    "\n",
    "                \n",
    "            \n",
    "            \n",
    "            "
   ]
  },
  {
   "cell_type": "markdown",
   "metadata": {},
   "source": [
    "## Evaluate parsed data - the amount of genotypes under each marker should be the same\n",
    "\n",
    "Lets check if the length of each list is the same. Since there are 162 plants in the population, we can also test if the length of each list is equal to 162. "
   ]
  },
  {
   "cell_type": "code",
   "execution_count": 5,
   "metadata": {},
   "outputs": [
    {
     "name": "stdout",
     "output_type": "stream",
     "text": [
      "lengths asserted. All lengths are equal to  162 .\n",
      "we can also test if the asserion is working properly in jupyter notebook, to make sure\n"
     ]
    },
    {
     "ename": "AssertionError",
     "evalue": "",
     "output_type": "error",
     "traceback": [
      "\u001b[1;31m---------------------------------------------------------------------------\u001b[0m",
      "\u001b[1;31mAssertionError\u001b[0m                            Traceback (most recent call last)",
      "\u001b[1;32m<ipython-input-5-739365d8176f>\u001b[0m in \u001b[0;36m<module>\u001b[1;34m\u001b[0m\n\u001b[0;32m      9\u001b[0m \u001b[0mprint\u001b[0m\u001b[1;33m(\u001b[0m\u001b[1;34m'we can also test if the asserion is working properly in jupyter notebook, to make sure'\u001b[0m\u001b[1;33m)\u001b[0m\u001b[1;33m\u001b[0m\u001b[1;33m\u001b[0m\u001b[0m\n\u001b[0;32m     10\u001b[0m \u001b[1;33m\u001b[0m\u001b[0m\n\u001b[1;32m---> 11\u001b[1;33m \u001b[1;32massert\u001b[0m \u001b[0mall\u001b[0m\u001b[1;33m(\u001b[0m\u001b[1;33m[\u001b[0m\u001b[1;32mTrue\u001b[0m\u001b[1;33m,\u001b[0m \u001b[1;32mFalse\u001b[0m\u001b[1;33m,\u001b[0m \u001b[1;32mTrue\u001b[0m\u001b[1;33m]\u001b[0m\u001b[1;33m)\u001b[0m\u001b[1;33m\u001b[0m\u001b[1;33m\u001b[0m\u001b[0m\n\u001b[0m",
      "\u001b[1;31mAssertionError\u001b[0m: "
     ]
    }
   ],
   "source": [
    "##### take a random key and determine the size of its data (amount of <genotypes?=(?)>)\n",
    "##### TODO VERIFY ^\n",
    "\n",
    "# WRONG ?!\n",
    "lenn = len(identifier_dict['DF.328C_81'])\n",
    "assert all([len(l) ==  lenn for l in identifier_dict.values()])\n",
    "assert all([len(l) == 162 for l in identifier_dict.values()])\n",
    "print('lengths asserted. All lengths are equal to ', lenn, \".\")\n",
    "print('we can also test if the asserion is working properly in jupyter notebook, to make sure')\n",
    "\n",
    "assert all([True, False, True])"
   ]
  },
  {
   "cell_type": "markdown",
   "metadata": {},
   "source": [
    "# ~~Chi-square to determine integrity of data~~\n",
    "To test the quality of the data, the chi-square test can be used. < because reason > only one degree of freedom has to be accounted for. \n",
    "To determine the validity of our data we can perform the chi-square test. \n",
    "\n",
    "\\begin{align}\n",
    "\\texttt{Chi Square} = \n",
    "\\frac{ (\\texttt{amount of a's} - \\frac{\\texttt{total progeny}}{2})^{2} }\n",
    " {\\frac{\\texttt{total progeny}}{2}} + \n",
    "\\frac{(\\texttt{amount of b's} - \\frac{\\texttt{total progeny}}{2})^{2}}\n",
    "  {\\frac{\\texttt{total progeny}}{2}}\n",
    "\\end{align}"
   ]
  },
  {
   "cell_type": "code",
   "execution_count": 7,
   "metadata": {},
   "outputs": [],
   "source": [
    "\n",
    "# failed chi-square section\n",
    "markers_to_reject = []\n",
    "\n",
    "with open('chi_squares voor ' +MAIN_DATA_FILE+ \".txt\", 'w') as out:\n",
    "\n",
    "    out.write(f\"marker\\tchi-squared\\tobserved_a\\texpected_a\\tobserved_b\\texpected_b,total_genotypes\\n\")\n",
    "    for k, values in identifier_dict.items():\n",
    "        total_genotypes = (len(values) - values.count('-'))\n",
    "\n",
    "        observed_a = values.count('a')\n",
    "        observed_b = values.count('b')\n",
    "        expected_a = total_genotypes / 2    # we expect a:b to be 1:3 where b is ab,bb,ba\n",
    "        expected_b =  total_genotypes / 2\n",
    "        chi_squared = ((((observed_a - expected_a)**2) / expected_a ) + \\\n",
    "                      (((observed_b - expected_b)**2) / expected_b ))\n",
    "        # print(observed_a, expected_a, observed_b, expected_b, total_genotypes, chi_squared)\n",
    "        \n",
    "        out.write(f\"{k}\\t{round(chi_squared,2)}\\t{observed_a}\\t{expected_a}\\t{observed_b}\\t{expected_b},{total_genotypes}\\n\")\n",
    "        # note: total_genotypes gebaseerd op a's en b's, -'s niet meerekenen.\n",
    "\n",
    "        if chi_squared > 3.841: # ignore this marker.\n",
    "            markers_to_reject.append((k, chi_squared))\n",
    "            # print(k,'will be ignored with a chi_squared of',chi_squared)\n",
    "        else:\n",
    "            # print(chi_squared)\n",
    "            pass\n",
    "            \n",
    "\n",
    "with open('chi_squares_rejected.txt', 'w') as out:\n",
    "    for marker, chi_squared in markers_to_reject:\n",
    "        identifier_dict.pop(marker)\n",
    "        out.write(f\"{marker}\\t{chi_squared}\\n\")\n",
    "        # print('removed', marker, 'from dataset')\n"
   ]
  },
  {
   "cell_type": "markdown",
   "metadata": {},
   "source": [
    "# Sorting data a bit\n",
    "Now lets alphabetize the data so it will be more readable $^{[2]}$, then, we create a matrix where the distances (in centimorgan) are calculated by comparing their data and counting recominbants, then dividing by the amount of progeny and multiplying by 100. A recombinant is defined by a set of genotype-symbols for two markers in a plant (the occurrence or absence of a marker in the genotype) where ~~any or both~~ one of the symbols is a 'b' and the other an 'a'.\n",
    "\n",
    "the `recombinant_factor`(RF) is calculated as follows : \n",
    "\\begin{align}\n",
    "Recombinant Factor = \\frac{N_{recombinants}}{N_{progeny}} * 100 \n",
    "\\end{align}\n",
    "\n",
    "$^{[2]}$: I did this but then removed it again\n"
   ]
  },
  {
   "cell_type": "markdown",
   "metadata": {},
   "source": [
    "\n",
    "# `calculateRF` function\n",
    "\n",
    "We'll use a function that takes two lists, each holding all symbols representing genotypes for one marker. The function will then iterate over these symbols simultaneously and decide whether a plants genotype is a recombinant. tra. The recombinants will be summed at the end and the calculation will follow as explained above. The result is the recombination factor, which will be returned as a value where this function is 'called'.\n"
   ]
  },
  {
   "cell_type": "code",
   "execution_count": 17,
   "metadata": {},
   "outputs": [],
   "source": [
    "\n",
    "def calculateRF(ref_marker, compare_marker):\n",
    "    \n",
    "    # set a variable\n",
    "    recombinant_count = 0\n",
    "    unused_count = 0 # -'s\n",
    "    # iterate over both lists simultaneously whilst comparing values\n",
    "    # \n",
    "    for ref_genotype, comp_genotype in zip(ref_marker, compare_marker):\n",
    "        \n",
    "        ## UNCERTAIN IS IT Ref == COMP OR REF != COMP OR REF = B COMP = A??\n",
    "        ## \n",
    "        if (ref_genotype == 'b' and comp_genotype == 'a') or (\n",
    "            comp_genotype == 'b' and  ref_genotype == 'a'):\n",
    "            recombinant_count += 1\n",
    "        if ref_genotype == '-' or comp_genotype == '-':\n",
    "            unused_count += 1\n",
    "    \n",
    "    return recombinant_count / (len(ref_marker) - unused_count)\n"
   ]
  },
  {
   "cell_type": "markdown",
   "metadata": {},
   "source": [
    "# Creating the RF matrix\n",
    "Now, using a nested foreach loop, we can first iterate over each key (a marker, lets call it the reference marker) in our dataset, and then iterate again over each marker (lets call this the compare_marker), creating 144\\*144 instances to compare markers in. This is redundant, because each marker will occur in both loops, so marker_A will be compared to marker_B at first, and later marker_B will also be compared to marker_A. I couldn't be bothered to figure out a cleaner, more resource-friendly way of doing this (without checking availibilty of each swapped pair in the dictionary we're building).\n",
    "\n",
    "> In the code, some artifacts of previous versions are left for reference' sake.\n"
   ]
  },
  {
   "cell_type": "code",
   "execution_count": 18,
   "metadata": {},
   "outputs": [],
   "source": [
    "# iterate over each key, value pair \n",
    "\n",
    "recombinant_factor = dict() # old \n",
    "recombinant_factors_try2 = dict()\n",
    "\n",
    "\n",
    "# reference and compare_to markers.\n",
    "for ref_marker, ref_genotype in identifier_dict.items():\n",
    "    # and again, so we form a matrix \n",
    "    # NOTE; THIS MATRIX WONT HAVE THEIR AXES NICELY SORTED!!!!!!!!!!!\n",
    "    recombinant_factors_try2[f\"{ref_marker}\"] = dict()\n",
    "    for comp_marker, comp_genotype in identifier_dict.items():\n",
    "        \n",
    "        # skip same keys and skip previously already matched keys\n",
    "        if (not ref_marker == comp_marker):\n",
    "            recombinant_factor[f\"{ref_marker}_VS_{comp_marker}\"]  = calculateRF(ref_genotype, comp_genotype)\n",
    "\n",
    "            recombinant_factors_try2[f\"{ref_marker}\"][f\"{comp_marker}\"] = calculateRF(ref_genotype, comp_genotype)\n",
    "\n",
    "        "
   ]
  },
  {
   "cell_type": "markdown",
   "metadata": {},
   "source": [
    "Example of our nested dictionaries:"
   ]
  },
  {
   "cell_type": "code",
   "execution_count": 19,
   "metadata": {},
   "outputs": [
    {
     "name": "stdout",
     "output_type": "stream",
     "text": [
      "PVV4_1 [('CRY2_2', 0.5925925925925926), ('AXR-1_3', 0.6024844720496895)]\n",
      "CRY2_2 [('PVV4_1', 0.5925925925925926), ('AXR-1_3', 0.5590062111801242)]\n",
      "AXR-1_3 [('PVV4_1', 0.6024844720496895), ('CRY2_2', 0.5590062111801242)]\n",
      "HH.335C_4 [('PVV4_1', 0.6234567901234568), ('CRY2_2', 0.5987654320987654)]\n",
      "DF.162L_5 [('PVV4_1', 0.6358024691358025), ('CRY2_2', 0.6111111111111112)]\n",
      "BH.147L_6 [('PVV4_1', 0.6481481481481481), ('CRY2_2', 0.6234567901234568)]\n",
      "EC.480C_7 [('PVV4_1', 0.6604938271604939), ('CRY2_2', 0.6358024691358025)]\n",
      "CH.160L_11 [('PVV4_1', 0.7391304347826086), ('CRY2_2', 0.7329192546583851)]\n",
      "AD.121C_12 [('PVV4_1', 0.7453416149068323), ('CRY2_2', 0.7329192546583851)]\n",
      "AD.106L_13 [('PVV4_1', 0.7453416149068323), ('CRY2_2', 0.7391304347826086)]\n",
      "GB.112L_14 [('PVV4_1', 0.7654320987654321), ('CRY2_2', 0.7654320987654321)]\n",
      "81\n"
     ]
    }
   ],
   "source": [
    "\"\"\"old                                            \n",
    "for i, (k, v) in enumerate(recombinant_factor.items()):\n",
    "    if i > 10:\n",
    "        break\n",
    "    \n",
    "    print(k,v)\n",
    "print(len(recombinant_factor))\n",
    "\"\"\"\n",
    "\n",
    "for i, (k, v) in enumerate(recombinant_factors_try2.items()):\n",
    "    if i > 10:\n",
    "        break\n",
    "    \n",
    "    print(k,list(v.items())[:2])\n",
    "print(len(recombinant_factors_try2))\n"
   ]
  },
  {
   "cell_type": "markdown",
   "metadata": {},
   "source": [
    "# Store recombinant factors in a matrix (tsv)\n"
   ]
  },
  {
   "cell_type": "code",
   "execution_count": 20,
   "metadata": {},
   "outputs": [],
   "source": [
    "sorted_keys = list(recombinant_factors_try2.keys())\n",
    "sorted_keys.sort()\n",
    "\n",
    "factors = recombinant_factors_try2\n",
    "\n",
    "with open (OUTPUT_FILENAME, 'w') as out:\n",
    "    # set headers\n",
    "    out.write(\"X\\t\") # topleft cell\n",
    "    for column_header in sorted_keys:\n",
    "        out.write(f\"{column_header}\\t\")\n",
    "    out.write(\"\\n\")\n",
    "    \n",
    "    # set leftmost cell key/marker-name\n",
    "    for row_header in sorted_keys:\n",
    "        out.write(f\"{row_header}\\t\")\n",
    "        for key in sorted_keys:\n",
    "            if (not key == row_header):\n",
    "                recombinant_distance = factors[row_header][key]\n",
    "                out.write(f\"{recombinant_distance}\\t\")\n",
    "            else:\n",
    "                # there's no distance between marker x with itself\n",
    "                out.write(\"X\\t\")\n",
    "        out.write(\"\\n\")\n"
   ]
  },
  {
   "cell_type": "markdown",
   "metadata": {},
   "source": [
    "# Visualise the gene distances\n",
    "Sadly, it's too much of a hassle to get Python's turtle module to work inside jupyter notebook (and display output in it, too), so that this part is done in a serperate `.py` script."
   ]
  },
  {
   "cell_type": "code",
   "execution_count": 14,
   "metadata": {},
   "outputs": [],
   "source": [
    "# todo draw markers with turtle.\n",
    "#from turtle import *\n",
    "\n",
    "#t = Turtle()\n",
    "#t.color('red')\n",
    "#t.shape('turtle')\n",
    "#t.forward(10)"
   ]
  },
  {
   "cell_type": "code",
   "execution_count": null,
   "metadata": {},
   "outputs": [],
   "source": []
  }
 ],
 "metadata": {
  "kernelspec": {
   "display_name": "Python 3",
   "language": "python",
   "name": "python3"
  },
  "language_info": {
   "codemirror_mode": {
    "name": "ipython",
    "version": 3
   },
   "file_extension": ".py",
   "mimetype": "text/x-python",
   "name": "python",
   "nbconvert_exporter": "python",
   "pygments_lexer": "ipython3",
   "version": "3.7.5"
  }
 },
 "nbformat": 4,
 "nbformat_minor": 2
}
